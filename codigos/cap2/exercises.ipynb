{
 "cells": [
  {
   "cell_type": "markdown",
   "metadata": {},
   "source": [
    "# Exercícios do capítulo 2"
   ],
   "execution_count": null,
   "outputs": []
  },
  {
   "cell_type": "markdown",
   "metadata": {},
   "source": [
    "### Faça as seguintes declarações na linguagem python e imprima os valores de x, y e z.\n",
    "### $x = 7 + 3 \\times 6 / 2 - 1$\n",
    "### $y = 2 \\bmod 2 + 2 \\times 2 / 2$\n",
    "### $z = ( 3 \\times 9 \\times ( 3 + ( 9 \\times 3 / ( 3 ) ) ) )$\n",
    "mod corresponde ao operador módulo"
   ],
   "execution_count": null,
   "outputs": []
  },
  {
   "cell_type": "code",
   "execution_count": null,
   "metadata": {},
   "outputs": [],
   "source": []
  },
  {
   "cell_type": "markdown",
   "metadata": {},
   "source": [
    "### Escreva um código que peça ao usuário fornecer dois números e então imprima a soma, o produto a diferença e o quociente dos dois números"
   ],
   "execution_count": null,
   "outputs": []
  },
  {
   "cell_type": "code",
   "execution_count": null,
   "metadata": {},
   "outputs": [],
   "source": []
  },
  {
   "cell_type": "markdown",
   "metadata": {},
   "source": [
    "### Escreva um código que peça ao usuário fornecer o raio de um círculo e então imprima o diametro, a circuferência e a área. Use a constante 3.14159 como sendo o valor de pi. "
   ],
   "execution_count": null,
   "outputs": []
  },
  {
   "cell_type": "code",
   "execution_count": null,
   "metadata": {},
   "outputs": [],
   "source": []
  },
  {
   "attachments": {
    "image.png": {
     "image/png": "[encoded data removed]"
    }
   },
   "cell_type": "markdown",
   "metadata": {},
   "source": [
    "### Escreva um código que imprima os seguintes desenhos: um quadrado, um círculo oval, uma seta e um losango:\n",
    "![forms](forms.JPG)"
   ],
   "execution_count": null,
   "outputs": []
  },
  {
   "cell_type": "code",
   "execution_count": null,
   "metadata": {},
   "outputs": [],
   "source": []
  },
  {
   "cell_type": "markdown",
   "metadata": {},
   "source": [
    "###  Escreva um código que lê dois números inteiros e imprime se o primeiro é multiplo do segundo. (dica: use o operado módulo)"
   ],
   "execution_count": null,
   "outputs": []
  },
  {
   "cell_type": "code",
   "execution_count": null,
   "metadata": {},
   "outputs": [],
   "source": []
  }
 ],
 "metadata": {
  "kernelspec": {
   "display_name": "Python 3",
   "language": "python",
   "name": "python3"
  },
  "language_info": {
   "codemirror_mode": {
    "name": "ipython",
    "version": 3
   },
   "file_extension": ".py",
   "mimetype": "text/x-python",
   "name": "python",
   "nbconvert_exporter": "python",
   "pygments_lexer": "ipython3",
   "version": "3.7.3-final"
  }
 },
 "nbformat": 4,
 "nbformat_minor": 2
}