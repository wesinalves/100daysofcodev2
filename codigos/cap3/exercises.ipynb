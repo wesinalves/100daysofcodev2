{
 "nbformat": 4,
 "nbformat_minor": 2,
 "metadata": {
  "language_info": {
   "name": "python",
   "codemirror_mode": {
    "name": "ipython",
    "version": 3
   }
  },
  "orig_nbformat": 2,
  "file_extension": ".py",
  "mimetype": "text/x-python",
  "name": "python",
  "npconvert_exporter": "python",
  "pygments_lexer": "ipython3",
  "version": 3
 },
 "cells": [
  {
   "cell_type": "markdown",
   "metadata": {},
   "source": [
    "# Exercícios do capítulo 3\n"
   ]
  },
  {
   "cell_type": "markdown",
   "metadata": {},
   "source": [
    "### Motoristas se preocupam com a autonomia que seus carros fazem ao dirigir. Um motorista gravou o registro de quantos litros e quantos kilometros seu carro fez para cada enchida no tanque. Crie um código que receba como entrada a quantidade de litros e a quantidade de quilômetros percorrida pelo carro e calcule a o consumo cada tanque completado em km/litro. Após processar todas as entradas, calcule e imprima a média do consumo que o carro fez. (=total de kilometros percorrido dividio pelo total de gasolina consumida em litros)."
   ]
  },
  {
   "cell_type": "code",
   "execution_count": null,
   "metadata": {},
   "outputs": [],
   "source": []
  },
  {
   "cell_type": "markdown",
   "metadata": {},
   "source": [
    "### Palindrome é um número ou texto que se lê da mesma maneira de trás para frente ou de frente para trás. Por exemplo, cada um dos digitos a seguir é um palindrome: 12321, 55555, 45554 and 11611. Escreva um código que lê cinco dígitos inteiro e determina se é um palindrome. (Dica: use a divisão e o operador módulo para separar o número em seus dígitos individuais)"
   ]
  },
  {
   "cell_type": "code",
   "execution_count": null,
   "metadata": {},
   "outputs": [],
   "source": []
  },
  {
   "cell_type": "markdown",
   "metadata": {},
   "source": [
    "### Entre com valores inteiros de 0s e 1s representando um número binário e calcule seu valor decimal correspondente. (Dica: use o operador módulo e divisão para selecionar os dígitos do número \"binário\", um de cada vez, da direita para a esquerda. Assim como como no sistema de número decimal, em que o dígito mais à direita tem o valor posicional 1 e o próximo dígito à esquerda tem o valor posicional 10, depois 100, depois 1000 etc. no sistema de números binários, o mais à direita dígito tem um valor posicional 1, o próximo dígito à esquerda tem o valor posicional 2, depois 4, depois 8, etc. Assim, o número decimal 234 pode ser interpretado como $2 \\times 100 + 3 \\times 10 + 4 \\times 1$. O equivalente decimal do binário 1101 é $1 \\times 8 + 1 \\times 4 + 0 \\times 2 + 1 \\times 1$)."
   ]
  },
  {
   "cell_type": "code",
   "execution_count": null,
   "metadata": {},
   "outputs": [],
   "source": []
  },
  {
   "cell_type": "markdown",
   "metadata": {},
   "source": [
    "### O fatorial de um número inteiro não negativo n é escrito como n! (pronunciado “n fatorial”) e é definido do seguinte modo: $n! = n \\times (n - 1) \\times (n - 2) \\times … \\times 1$ para valores de n mairo ou igual a 1, e $n! = 1$ para $n = 0$. Por exemplo, $5! = 5 \\times 4 \\times 3 \\times 2 \\times 1$, que é 120. Os fatoriais aumentam de tamanho muito rapidamente. Qual é o maior fatorial que seu programa pode calcular antes de gerar um estouro de memória?\n",
    "#### a) Escreva um programa que leia um número inteiro não negativo e calcule e imprima seu fatorial.\n",
    "#### b) Escreva um programa que calcule o valor da constante matemática $e$ usando a seguinte fórmula (Nota: Seu código pode parar após somar 10 termos.)\n",
    "$e = 1 + \\frac{1}{1!} + \\frac{1}{2!} + \\frac{1}{3!} + ... $\n",
    "#### c) Escreva um programa que calcule o valor de $ex$ usando a fórmula (Nota: Seu código pode parar após somar 10 termos.)\n",
    "$e^x = 1 + \\frac{x}{1!} + \\frac{x^2}{2!} + \\frac{x^3}{3!} + ...$\n"
   ]
  },
  {
   "cell_type": "code",
   "execution_count": null,
   "metadata": {},
   "outputs": [],
   "source": []
  },
  {
   "cell_type": "code",
   "execution_count": null,
   "metadata": {},
   "outputs": [],
   "source": []
  },
  {
   "cell_type": "code",
   "execution_count": null,
   "metadata": {},
   "outputs": [],
   "source": []
  },
  {
   "cell_type": "markdown",
   "metadata": {},
   "source": [
    "### Escreva um programa que imprima os seguintes padrões separadamente, um abaixo do outro, cada padrão separado do próximo por uma linha em branco. Use laços **for** para gerar os padrões. Todos os asteriscos (*) devem ser impressos por uma única declaração na forma: \n",
    "`print('*',)`\n",
    "### o que faz com que os asteriscos imprimam lado a lado, separados por um espaço. (Dica: os dois últimos padrões exigem que cada linha comece com um número apropriado de espaços em branco.) Crédito extra: combine seu código dos quatro problemas separados em um único programa que imprime todos os quatro padrões lado a lado, fazendo um uso inteligente dos laços aninhados **for**. Para todas as partes deste exercício - minimize o número de asteriscos e espaços e o número de instruções que imprimem esses caracteres.\n",
    "![pattern](patterns.JPG)\n"
   ]
  },
  {
   "cell_type": "code",
   "execution_count": null,
   "metadata": {},
   "outputs": [],
   "source": []
  },
  {
   "cell_type": "code",
   "execution_count": null,
   "metadata": {},
   "outputs": [],
   "source": []
  },
  {
   "cell_type": "code",
   "execution_count": null,
   "metadata": {},
   "outputs": [],
   "source": []
  },
  {
   "cell_type": "code",
   "execution_count": null,
   "metadata": {},
   "outputs": [],
   "source": []
  },
  {
   "cell_type": "code",
   "execution_count": null,
   "metadata": {},
   "outputs": [],
   "source": []
  },
  {
   "cell_type": "markdown",
   "metadata": {},
   "source": [
    "### (Triplos de pitágoras) Um triângulo retângulo pode ter lados que são todos inteiros. O conjunto de três valores inteiros para os lados de um triângulo retângulo é chamado de triplo de pitágoras. Esses três lados devem satisfazer a relação de que a soma dos quadrados de dois dos lados é igual ao quadrado da hipotenusa. Encontre todos os triplos pitagóricos para lado1, lado2 e hipotenusa, todos com tamanho não superior a 20. Use um laço **for** triplamente aninhado que tente todas as possibilidades. Este é um exemplo de computação de \"força bruta\". Você aprenderá em cursos de ciência da computação mais avançados que existem muitos problemas interessantes para os quais não existe uma abordagem algorítmica conhecida além da pura força bruta."
   ]
  },
  {
   "cell_type": "code",
   "execution_count": null,
   "metadata": {},
   "outputs": [],
   "source": []
  }
 ]
}